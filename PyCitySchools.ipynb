{
 "cells": [
  {
   "cell_type": "code",
   "execution_count": null,
   "id": "2865a9a1",
   "metadata": {},
   "outputs": [],
   "source": [
    "import os\n",
    "import pandas as pd\n",
    "\n",
    "students_data_path = os.path.join('Resources', 'students_complete.csv')\n",
    "schools_data_path = os.path.join('Resources', 'schools_complete.csv')\n",
    "\n",
    "students_data_df = pd.read_csv(students_data_path)\n",
    "schools_data_df = pd.read_csv(schools_data_path)"
   ]
  },
  {
   "cell_type": "code",
   "execution_count": null,
   "id": "60bf2ed0",
   "metadata": {},
   "outputs": [],
   "source": [
    "schools_data_df.head()"
   ]
  },
  {
   "cell_type": "code",
   "execution_count": null,
   "id": "2e97d0c4",
   "metadata": {},
   "outputs": [],
   "source": [
    "students_data_df.head()"
   ]
  },
  {
   "cell_type": "code",
   "execution_count": null,
   "id": "850da591",
   "metadata": {},
   "outputs": [],
   "source": []
  }
 ],
 "metadata": {
  "kernelspec": {
   "display_name": "Python 3",
   "language": "python",
   "name": "python3"
  },
  "language_info": {
   "codemirror_mode": {
    "name": "ipython",
    "version": 3
   },
   "file_extension": ".py",
   "mimetype": "text/x-python",
   "name": "python",
   "nbconvert_exporter": "python",
   "pygments_lexer": "ipython3",
   "version": "3.8.8"
  }
 },
 "nbformat": 4,
 "nbformat_minor": 5
}
